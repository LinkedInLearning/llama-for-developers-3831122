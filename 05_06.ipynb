{
  "nbformat": 4,
  "nbformat_minor": 0,
  "metadata": {
    "colab": {
      "provenance": []
    },
    "kernelspec": {
      "name": "python3",
      "display_name": "Python 3"
    },
    "language_info": {
      "name": "python"
    }
  },
  "cells": [
    {
      "cell_type": "markdown",
      "source": [
        "## Challenge: Generating E-commerce Product Tags\n",
        "1. Define a pydantic schema\n",
        "2. Define a langchain series of prompts\n",
        "3. Get a python object in return\n",
        "4. Program should be a list of E-commerce products with product_tags"
      ],
      "metadata": {
        "id": "qi3lsa_uGyAO"
      }
    },
    {
      "cell_type": "code",
      "source": [
        "!pip install langchain-groq langchain"
      ],
      "metadata": {
        "id": "wMGNDXM33-Ls"
      },
      "execution_count": null,
      "outputs": []
    },
    {
      "cell_type": "code",
      "source": [
        "from langchain_core.prompts import ChatPromptTemplate\n",
        "from langchain_groq import ChatGroq"
      ],
      "metadata": {
        "id": "LcG-kOqd4IVh"
      },
      "execution_count": null,
      "outputs": []
    },
    {
      "cell_type": "code",
      "source": [
        "from google.colab import userdata\n",
        "model = ChatGroq(temperature=0.1, groq_api_key=userdata.get('GROQ_API_KEY'), model_name=\"llama2-70b-4096\")"
      ],
      "metadata": {
        "id": "K5C32xxD4IsV"
      },
      "execution_count": null,
      "outputs": []
    },
    {
      "cell_type": "code",
      "source": [
        "from typing import List\n",
        "\n",
        "from langchain.output_parsers import PydanticOutputParser\n",
        "from langchain.prompts import PromptTemplate\n",
        "from langchain_core.pydantic_v1 import BaseModel, Field, validator"
      ],
      "metadata": {
        "id": "U_Hn5xTP3-vA"
      },
      "execution_count": null,
      "outputs": []
    },
    {
      "cell_type": "code",
      "source": [
        "## TODO write some ecommerce classes\n",
        "\n",
        "query = \"Generate three ecommerce items.\"\n",
        "\n",
        "parser = PydanticOutputParser(pydantic_object=EcommerceItems)\n",
        "\n",
        "prompt = PromptTemplate(\n",
        "    template=\"Generate only JSON file. \\n{format_instructions}\\n{query}\\n\",\n",
        "    input_variables=[\"query\"],\n",
        "    partial_variables={\"format_instructions\": parser.get_format_instructions()},\n",
        ")\n"
      ],
      "metadata": {
        "id": "834cOFIr4DZP"
      },
      "execution_count": null,
      "outputs": []
    },
    {
      "cell_type": "code",
      "source": [
        "chain = prompt | model | parser\n",
        "\n",
        "ecommerce_items = chain.invoke({\"query\": query})"
      ],
      "metadata": {
        "id": "DbJ5nwVH4E1n"
      },
      "execution_count": null,
      "outputs": []
    },
    {
      "cell_type": "code",
      "source": [
        "ecommerce_items"
      ],
      "metadata": {
        "id": "k3xwF9ay4XJO"
      },
      "execution_count": null,
      "outputs": []
    },
    {
      "cell_type": "code",
      "source": [
        "ecommerce_items.list_of_products[0].product_tags"
      ],
      "metadata": {
        "colab": {
          "base_uri": "https://localhost:8080/"
        },
        "id": "novH7SKF5jcm",
        "outputId": "192453ea-a692-42d9-d72c-22c9da9a94a3"
      },
      "execution_count": null,
      "outputs": [
        {
          "output_type": "execute_result",
          "data": {
            "text/plain": [
              "['cotton', 'black', 'medium']"
            ]
          },
          "metadata": {},
          "execution_count": 54
        }
      ]
    }
  ]
}